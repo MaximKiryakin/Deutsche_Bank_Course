{
  "cells": [
    {
      "attachments": {},
      "cell_type": "markdown",
      "metadata": {
        "id": "Rlb467ASztte"
      },
      "source": [
        "# Скрипт для расчета NPV и IRR для ценной бумаги"
      ]
    },
    {
      "attachments": {},
      "cell_type": "markdown",
      "metadata": {
        "id": "ctaRFASZzyR2"
      },
      "source": [
        "\n",
        "## Простой процент \n",
        "\n",
        "$$N \\cdot (1 + r\\cdot t)$$\n",
        "\n",
        "* `N` - nominal (номинал)\n",
        "* `r` - rate (процентная ставка)\n",
        "* `t` - term (срок) \n",
        "\n",
        "## Сложный процент\n",
        "\n",
        "$$N \\cdot \\left( 1 + \\frac{r}{k}\\right) ^{k\\cdot t}$$\n",
        "\n",
        "* `N` - nominal (номинал)\n",
        "* `r` - rate (процентная ставка)\n",
        "* `t` - term (срок)\n",
        "* `k` - compoundig frequency (частота начисления процентов)\n",
        "\n",
        "## Непрерывное начисление процентов\n",
        "\n",
        "$$ N \\cdot e^{rt}$$\n",
        "\n",
        "\n",
        "## Дисконтирование\n",
        "`Дисконтирование` - операция, обратная начислению.\n",
        "$$ 100\\cdot(1 + 10\\%)^1 = 110 $$\n",
        "\n",
        "$$ 110 \\cdot \\frac{1}{(1+ 10\\%)^1} = 100 $$\n",
        "\n",
        "`Фактор дисконтирования` (discounting factor):\n",
        "\n",
        "$$ df = \\frac{1}{(1+ r)^t} $$\n",
        "\n",
        "`NPV` - Net present value (Чистая приведенная стоимость) - сколько деньги будут стоить по истечению периода времени, с учётом ключевой ставки, инфляции и рисков.\n",
        "\n",
        "$$NPV = -IC + \\sum_{t = 1}^N{\\frac{CF_i}{(1 + i)^t}}$$\n",
        "\n",
        "* `IC` — вложения\n",
        "* `CF` — денежный поток (Cash Flow) во времени\n",
        "* `i` — ставка дисконтирования\n",
        "\n",
        "`PV` - Present value\n",
        "\n",
        "`Discount bond` - бонд, который торгуется ниже номинала\n",
        "\n",
        "`Premium bond` - бонд, который торгуется выше номинала\n",
        "\n",
        "`Par value` (номинал) - сумма, которую бонд платит в конце\n",
        "\n",
        "`Yield to maturity (YTM)` — ставка доходности по облигации при\n",
        "намерении покупателя удерживать эту облигацию до\n",
        "погашения.\n",
        "\n",
        "`IRR` - Internal rate of return (внутренняя норма доходности) - это такая ставка, при которой NPV денежного потока 0\n",
        "\n",
        "\n",
        "**Пример:** \n",
        "\n",
        "Бонд с ценой 90, купонами 6, 6 и номиналом 106\n",
        "\n",
        "$$-90 + \\frac{6}{(1+r)^1} + \\frac{6}{(1+r)^2} + \\frac{106}{(1+r)^3}$$\n",
        "\n",
        "`Хеджи́рование` (от англ. hedge — ограда, изгородь) — открытие сделок на одном рынке для компенсации воздействия ценовых рисков равной, но противоположной позиции на другом рынке. Обычно хеджирование осуществляется с целью страхования рисков изменения цен путём заключения сделок на срочных рынках. \n",
        "\n",
        "`Гипотеза эффективного рынка` – в рыночных ценах\n",
        "мгновенно и полностью учитывается вся доступная\n",
        "информация. Иначе на рынке появляется возможность\n",
        "арбитража.\n",
        "\n",
        "`Арбитраж` – возможность извлечения прибыли мгновенно и без\n",
        "рисков.\n",
        "\n",
        "`Условие отсутствия арбитража(No-arbitrage Condition)`:\n",
        "стоимость идентичных активов на рынке должна быть\n",
        "одинаковой.\n"
      ]
    },
    {
      "attachments": {},
      "cell_type": "markdown",
      "metadata": {},
      "source": [
        "\n",
        "**Задача:** Необходимо написать на питоне скрипт для расчета `NPV` и `IRR` для ценной бумаги. Скрипт должен\n",
        "\n",
        "принимать на вход следующие параметры:\n",
        "\n",
        "* Номинал бумаги\n",
        "\n",
        "* Вид начисления процентов (простой/сложный)\n",
        "\n",
        "* Размер купона в процентах годовых\n",
        "\n",
        "* Периодичность начисления (для сложных процентов). Также должна быть поддержка\n",
        "\n",
        "непрерывного начисления\n",
        "\n",
        "* Срок до погашения\n",
        "\n",
        "Периодичность выплаты всегда раз в год, кривая дисконтирования фиксированная (flat) на всех\n",
        "\n",
        "сроках (ставка кривой также выбирается пользователем)\n",
        "\n",
        "Срок до 23 марта включительно. "
      ]
    },
    {
      "attachments": {},
      "cell_type": "markdown",
      "metadata": {
        "id": "-b5NMC93-5P5"
      },
      "source": [
        "**Функции начисления процентов**\n"
      ]
    },
    {
      "cell_type": "code",
      "execution_count": 7,
      "metadata": {},
      "outputs": [],
      "source": [
        "import numpy as np"
      ]
    },
    {
      "cell_type": "code",
      "execution_count": 111,
      "metadata": {
        "id": "88NDDBXzLJnW"
      },
      "outputs": [],
      "source": [
        "# функция для вычисления сложного процента\n",
        "def compound_interest(S_0, r, t, k):\n",
        "  \"\"\"\n",
        "  :param S_0: исходное значение вложения\n",
        "  :param r: ставка годовых, под которую делается вложение\n",
        "  :param t: количество лет, начисления процентов\n",
        "  :param k: количество начислений в течение года\n",
        "  \"\"\"\n",
        "  return S_0 * (1 + r/k)**(k*t)\n",
        "\n",
        "\n",
        "# функция для вычисления простого процента\n",
        "def simple_interest(S_0, r, t):\n",
        "  \"\"\"\n",
        "  :param S_0: исходное значение вложения\n",
        "  :param r: ставка годовых, под которую делается вложение\n",
        "  :param t: количество лет, начисления процентов\n",
        "  \"\"\"\n",
        "  return S_0 * (1 + r * t)"
      ]
    },
    {
      "cell_type": "code",
      "execution_count": 112,
      "metadata": {
        "colab": {
          "base_uri": "https://localhost:8080/"
        },
        "id": "ff83ZedxhEIg",
        "outputId": "f928644a-013f-4cf4-e96f-5f7c8a6304be"
      },
      "outputs": [
        {
          "data": {
            "text/plain": [
              "11.025"
            ]
          },
          "execution_count": 112,
          "metadata": {},
          "output_type": "execute_result"
        }
      ],
      "source": [
        "compound_interest(10, 0.05, 2, 1)"
      ]
    },
    {
      "cell_type": "code",
      "execution_count": 113,
      "metadata": {},
      "outputs": [
        {
          "data": {
            "text/plain": [
              "118.0"
            ]
          },
          "execution_count": 113,
          "metadata": {},
          "output_type": "execute_result"
        }
      ],
      "source": [
        "simple_interest(100, 0.06, 3)"
      ]
    },
    {
      "attachments": {},
      "cell_type": "markdown",
      "metadata": {},
      "source": [
        "### Сложное начисление процентов"
      ]
    },
    {
      "cell_type": "code",
      "execution_count": 3,
      "metadata": {
        "id": "9Xn6wMFX1i7b"
      },
      "outputs": [],
      "source": [
        "def npv_compound(S_0, r, q, T, frec):\n",
        "  \"\"\"\n",
        "  :param S_0:           номинал бонда\n",
        "  :param r:             ставка по рынку\n",
        "  :param q:             ставка по бонду\n",
        "  :param t:             число лет, на которое берется бонд \n",
        "  :return:              npv сложного процента\n",
        "  \"\"\"\n",
        "  \n",
        "  if T < 1:\n",
        "    print(\"Error\")\n",
        "    return 0\n",
        "\n",
        "  NPV = -S_0\n",
        "  for i in range(1, T):\n",
        "    NPV += S_0 * q / (1 + r/frec)**(i * frec)\n",
        "  NPV += S_0 * (1 + q) / (1 + r/frec)**(T * frec)  \n",
        "  return NPV"
      ]
    },
    {
      "cell_type": "code",
      "execution_count": 4,
      "metadata": {
        "colab": {
          "base_uri": "https://localhost:8080/"
        },
        "id": "4zvvzzsgPjat",
        "outputId": "27cc4006-714c-4f95-9023-0b1c7a5870c1"
      },
      "outputs": [
        {
          "data": {
            "text/plain": [
              "10.692047797846556"
            ]
          },
          "execution_count": 4,
          "metadata": {},
          "output_type": "execute_result"
        }
      ],
      "source": [
        "npv_compound(100, 0.06,  0.1, 3, 1)"
      ]
    },
    {
      "attachments": {},
      "cell_type": "markdown",
      "metadata": {
        "id": "DMrklSCVFykq"
      },
      "source": [
        "### Непрерывное начисление процентов"
      ]
    },
    {
      "cell_type": "code",
      "execution_count": 5,
      "metadata": {
        "id": "kJ-8HI0CFxOv"
      },
      "outputs": [],
      "source": [
        "def npv_continious(S_0, r, q, T):\n",
        "  \"\"\"\n",
        "  :param S_0:            номинал бонда\n",
        "  :param r:              ставка по рынку\n",
        "  :param q:              ставка по бонду\n",
        "  :param T:              число лет, на которое берется бонд \n",
        "  :return:               npv непрерывного процента\n",
        "  \"\"\"\n",
        "  NPV = -S_0\n",
        "  for i in range(1, T):\n",
        "    NPV += S_0 * q * np.exp(-r*i)\n",
        "  NPV += S_0 * (1 + q) * np.exp(-r*(T))\n",
        "  return NPV"
      ]
    },
    {
      "cell_type": "code",
      "execution_count": 8,
      "metadata": {
        "colab": {
          "base_uri": "https://localhost:8080/"
        },
        "id": "Kukb9KthHtP9",
        "outputId": "3800c093-2ad2-40d0-918e-a9e335f406a8"
      },
      "outputs": [
        {
          "data": {
            "text/plain": [
              "10.166572958253994"
            ]
          },
          "execution_count": 8,
          "metadata": {},
          "output_type": "execute_result"
        }
      ],
      "source": [
        "npv_continious(100, 0.06,  0.1, 3)"
      ]
    },
    {
      "attachments": {},
      "cell_type": "markdown",
      "metadata": {},
      "source": [
        "### Простое начисление процентов"
      ]
    },
    {
      "cell_type": "code",
      "execution_count": 9,
      "metadata": {},
      "outputs": [],
      "source": [
        "def npv_simple(S_0, r, q, T):\n",
        "  \"\"\"\n",
        "  :param S_0:            номинал бонда\n",
        "  :param r:              ставка по рынку\n",
        "  :param q:              ставка по бонду\n",
        "  :param T:              число лет, на которое берется бонд \n",
        "  :return:               npv простого процента\n",
        "  \"\"\"\n",
        "  NPV = -S_0\n",
        "  for i in range(1, T):\n",
        "    NPV += S_0 * q / (1 + i*r)\n",
        "  NPV += S_0 * (1 + q) / (1 + T*r)\n",
        "  return NPV"
      ]
    },
    {
      "cell_type": "code",
      "execution_count": 10,
      "metadata": {},
      "outputs": [
        {
          "data": {
            "text/plain": [
              "7.062937062937067"
            ]
          },
          "execution_count": 10,
          "metadata": {},
          "output_type": "execute_result"
        }
      ],
      "source": [
        "npv_simple(100, 0.10,  0.12, 3)"
      ]
    },
    {
      "attachments": {},
      "cell_type": "markdown",
      "metadata": {
        "id": "wwpdwQtVR32e"
      },
      "source": [
        "### Скрипт для расчета NPV и IRR"
      ]
    },
    {
      "cell_type": "code",
      "execution_count": 11,
      "metadata": {},
      "outputs": [],
      "source": [
        "import scipy as sp\n",
        "def count_npv_irr(S_0, q, T, frec, r = 0.12, comp_type = 1):\n",
        "    \"\"\"\n",
        "    :param S_0:            номинал бонда\n",
        "    :param r:              ставка по рынку\n",
        "    :param q:              ставка по бонду\n",
        "    :param T:              число лет, на которое берется бонд \n",
        "    :param frec:           число начислений процента в течение года \n",
        "    :param comp_type       тип начисления процента 0 - простой, 1 - сложный, 2 - непрерывный\n",
        "    :return:               кортеж (NPV, IRR)\n",
        "    \"\"\"\n",
        "    npv, irr = [0, 0]\n",
        "    if comp_type == 0:\n",
        "        npv = npv_simple(S_0, r, q, T)\n",
        "        irr = sp.optimize.broyden1(lambda x: npv_simple(S_0, x, q, T), 0.1, f_tol=1e-12)\n",
        "    elif comp_type == 1:\n",
        "        npv = npv_continious(S_0, r, q, T)\n",
        "        irr = sp.optimize.broyden1(lambda x: npv_continious(S_0, x, q, T), 0.1, f_tol=1e-12)\n",
        "    elif comp_type == 2:\n",
        "        npv = npv_compound(S_0, r, q, T, frec)\n",
        "        irr = sp.optimize.broyden1(lambda x: npv_compound(S_0, x, q, T, frec), 0.1, f_tol=1e-12)\n",
        "    else: raise ValueError\n",
        "\n",
        "    return npv, irr"
      ]
    },
    {
      "cell_type": "code",
      "execution_count": null,
      "metadata": {
        "colab": {
          "base_uri": "https://localhost:8080/"
        },
        "id": "ePofmE9Azm7d",
        "outputId": "92382210-aa46-4027-a2da-f1a388f41058"
      },
      "outputs": [],
      "source": [
        "S_0 = float(input(\"Введите номинал бумаги\"))\n",
        "comp_type = int(input(\"Введите вид начисления процентов (0 - простой/ 1 - сложный/2 - непрерывный)\"))\n",
        "q = float(input(\"Введите велицину купона в процентах\")) / 100\n",
        "T = int(input(\"Срок до погашения в годах\"))\n",
        "r = float(input(\"Введите безрисковую процентную ставку в процентах\")) / 100\n",
        "frec = int(input(\"Введите, сколько раз надо начислять проценты в течение года\"))"
      ]
    },
    {
      "cell_type": "code",
      "execution_count": 12,
      "metadata": {},
      "outputs": [
        {
          "name": "stdout",
          "output_type": "stream",
          "text": [
            "NPV:  4.973703981968427  IRR:  0.11999999999999995\n"
          ]
        }
      ],
      "source": [
        "S_0, q, T, frec, r, comp_type = [100, 0.12, 3, 1, 0.10, 2]\n",
        "ans = count_npv_irr(S_0, q, T, frec, r, comp_type)\n",
        "print(\"NPV: \", ans[0], \" IRR: \", ans[1])"
      ]
    }
  ],
  "metadata": {
    "colab": {
      "collapsed_sections": [],
      "name": "скрипт для расчета NPV и IRR для ценной бумаги.ipynb",
      "provenance": []
    },
    "kernelspec": {
      "display_name": "Python 3",
      "name": "python3"
    },
    "language_info": {
      "codemirror_mode": {
        "name": "ipython",
        "version": 3
      },
      "file_extension": ".py",
      "mimetype": "text/x-python",
      "name": "python",
      "nbconvert_exporter": "python",
      "pygments_lexer": "ipython3",
      "version": "3.10.9"
    }
  },
  "nbformat": 4,
  "nbformat_minor": 0
}
